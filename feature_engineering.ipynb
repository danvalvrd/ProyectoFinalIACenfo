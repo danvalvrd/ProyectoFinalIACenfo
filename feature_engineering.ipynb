{
 "cells": [
  {
   "cell_type": "code",
   "execution_count": 9,
   "id": "011b9fc7",
   "metadata": {},
   "outputs": [],
   "source": [
    "# Importar las librerías necesarias para el análisis\n",
    "import pandas as pd\n",
    "import numpy as np\n",
    "import matplotlib.pyplot as plt\n",
    "import seaborn as sns\n",
    "import re\n",
    "import json\n",
    "import warnings\n",
    "\n",
    "# Ignorar advertencias (warnings) para mantener una salida limpia\n",
    "warnings.filterwarnings(\"ignore\")\n",
    "\n",
    "# Cargar el dataframe limpio.\n",
    "df_cleaned = pd.read_csv('datos/df_cleaned.csv')\n",
    "\n",
    "# Haremos una copia para mantener el original intacto.\n",
    "df_featured = df_cleaned.copy()"
   ]
  }
 ],
 "metadata": {
  "kernelspec": {
   "display_name": ".venv",
   "language": "python",
   "name": "python3"
  },
  "language_info": {
   "codemirror_mode": {
    "name": "ipython",
    "version": 3
   },
   "file_extension": ".py",
   "mimetype": "text/x-python",
   "name": "python",
   "nbconvert_exporter": "python",
   "pygments_lexer": "ipython3",
   "version": "3.9.6"
  }
 },
 "nbformat": 4,
 "nbformat_minor": 5
}
