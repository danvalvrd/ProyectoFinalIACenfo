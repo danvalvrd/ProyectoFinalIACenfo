{
 "cells": [
  {
   "cell_type": "markdown",
   "id": "2d8f9c1e",
   "metadata": {},
   "source": [
    "# Feature Engineering"
   ]
  },
  {
   "cell_type": "code",
   "execution_count": null,
   "id": "011b9fc7",
   "metadata": {},
   "outputs": [],
   "source": [
    "# Importar las librerías necesarias para el análisis\n",
    "import pandas as pd\n",
    "import numpy as np\n",
    "import matplotlib.pyplot as plt\n",
    "import seaborn as sns\n",
    "import re\n",
    "import json\n",
    "import warnings\n",
    "from sklearn.preprocessing import MinMaxScaler\n",
    "\n",
    "# Ignorar advertencias (warnings) para mantener una salida limpia\n",
    "warnings.filterwarnings(\"ignore\")\n",
    "\n",
    "# Cargar el dataframe limpio.\n",
    "df_cleaned = pd.read_csv('datos/df_cleaned.csv')\n",
    "\n",
    "# Haremos una copia para mantener el original intacto.\n",
    "df_featured = df_cleaned.copy()\n",
    "\n",
    "df_featured.head()"
   ]
  },
  {
   "cell_type": "markdown",
   "id": "e43b123a",
   "metadata": {},
   "source": [
    "### Sección 1: Creación de un Índice de Salinidad (`salinity_index`)\n",
    "\n",
    "#### Justificación\n",
    "El Análisis Exploratorio de Datos (EDA) reveló una alta correlación entre las variables que miden la mineralización del agua: `CONDUCT_mS/cm` (Conductividad), `SDT_M_mg/L` (Sólidos Disueltos Totales) y `DUR_mg/L` (Dureza). Para reducir la multicolinealidad y consolidar esta información en una única y robusta característica, crearemos un `salinity_index`.\n",
    "\n",
    "#### Metodología\n",
    "1.  **Seleccionar Variables:** Se aislarán las tres columnas mencionadas.\n",
    "2.  **Escalar:** Se aplicará `MinMaxScaler` para normalizar cada variable a un rango de 0 a 1. Esto es crucial para que ninguna variable domine a las otras debido a su escala original.\n",
    "3.  **Combinar:** El índice se calculará como el promedio de los tres valores escalados para cada muestra. El resultado será una nueva columna, `salinity_index`, que representa el nivel general de salinidad/mineralización."
   ]
  },
  {
   "cell_type": "code",
   "execution_count": null,
   "id": "b06c28f7",
   "metadata": {},
   "outputs": [],
   "source": [
    "# 1. Seleccionar las columnas relacionadas con la salinidad\n",
    "salinity_features = ['CONDUCT_mS/cm', 'SDT_M_mg/L', 'DUR_mg/L']\n",
    "\n",
    "# 2. Inicializar el escalador y transformar los datos\n",
    "scaler = MinMaxScaler()\n",
    "scaled_features = scaler.fit_transform(df_featured[salinity_features])\n",
    "\n",
    "# Convertir el resultado a un DataFrame para facilitar el cálculo\n",
    "df_scaled = pd.DataFrame(scaled_features, columns=salinity_features, index=df_featured.index)\n",
    "\n",
    "# 3. Calcular el promedio de las características escaladas y asignarlo a la nueva columna\n",
    "df_featured['salinity_index'] = df_scaled.mean(axis=1)\n",
    "\n",
    "print(\"Se ha creado la característica 'salinity_index'.\")\n",
    "df_featured[['CONDUCT_mS/cm', 'SDT_M_mg/L', 'DUR_mg/L', 'salinity_index']].head()"
   ]
  },
  {
   "cell_type": "markdown",
   "id": "3b4f6e12",
   "metadata": {},
   "source": [
    "### Sección 2: One-Hot Encoding de la Variable `SEMAFORO`\n",
    "\n",
    "#### Justificación\n",
    "La columna `SEMAFORO` es una variable categórica nominal que resume la calidad general del agua. Los algoritmos de clustering como K-Means no pueden procesar datos de texto directamente. El One-Hot Encoding es la técnica adecuada para convertir estas categorías en un formato numérico que el modelo pueda utilizar, sin introducir un orden artificial entre ellas.\n",
    "\n",
    "#### Metodología\n",
    "Se utilizará la función `pd.get_dummies` de pandas para crear nuevas columnas binarias (0 o 1) para cada categoría presente en la columna `SEMAFORO`. Se añadirá un prefijo para mayor claridad."
   ]
  },
  {
   "cell_type": "code",
   "execution_count": null,
   "id": "a984c312",
   "metadata": {},
   "outputs": [],
   "source": [
    "# Aplicar One-Hot Encoding a la columna 'SEMAFORO'\n",
    "semaforo_dummies = pd.get_dummies(df_featured['SEMAFORO'], prefix='SEMAFORO')\n",
    "\n",
    "# Unir las nuevas columnas al DataFrame principal\n",
    "df_featured = pd.concat([df_featured, semaforo_dummies], axis=1)\n",
    "\n",
    "print(\"Se han creado las características One-Hot para 'SEMAFORO'.\")\n",
    "df_featured[['SEMAFORO', 'SEMAFORO_Amarillo', 'SEMAFORO_Rojo', 'SEMAFORO_Sin Dato', 'SEMAFORO_Verde']].head()"
   ]
  },
  {
   "cell_type": "markdown",
   "id": "d0e23456",
   "metadata": {},
   "source": [
    "### Sección 3: Creación de un Contador de Contaminantes (`contaminant_count`)\n",
    "\n",
    "#### Justificación\n",
    "La columna `CONTAMINANTES` es un campo de texto que puede contener múltiples valores (ej. \"AS, FE\"). El número de contaminantes presentes en una muestra es una característica cuantitativa valiosa por sí misma, ya que indica la complejidad de la contaminación. Crear una característica numérica a partir de esta información la hace directamente utilizable por el modelo.\n",
    "\n",
    "#### Metodología\n",
    "Se aplicará una función a la columna `CONTAMINANTES`. Para cada fila:\n",
    "1.  Si el valor es \"Sin Contaminantes\", el conteo será 0.\n",
    "2.  De lo contrario, se contará el número de elementos separados por comas y se sumará 1 (ya que `n` comas separan `n+1` elementos)."
   ]
  },
  {
   "cell_type": "code",
   "execution_count": null,
   "id": "f5d1e8c9",
   "metadata": {},
   "outputs": [],
   "source": [
    "# Definir la función para contar contaminantes\n",
    "def count_contaminants(contaminant_string):\n",
    "    if contaminant_string == 'Sin Contaminantes':\n",
    "        return 0\n",
    "    else:\n",
    "        # Contar el número de comas y sumar 1 para obtener el número de contaminantes\n",
    "        return contaminant_string.count(',') + 1\n",
    "\n",
    "# Aplicar la función para crear la nueva columna\n",
    "df_featured['contaminant_count'] = df_featured['CONTAMINANTES'].apply(count_contaminants)\n",
    "\n",
    "print(\"Se ha creado la característica 'contaminant_count'.\")\n",
    "df_featured[['CONTAMINANTES', 'contaminant_count']].head(10)"
   ]
  },
  {
   "cell_type": "markdown",
   "id": "a9b8c7d6",
   "metadata": {},
   "source": [
    "### Sección 4: Guardar el DataFrame con las Nuevas Características\n",
    "\n",
    "Finalmente, el DataFrame resultante, que ahora incluye las nuevas características diseñadas, se guarda en un nuevo archivo CSV para ser utilizado en la siguiente etapa del pipeline: el modelado."
   ]
  },
  {
   "cell_type": "code",
   "execution_count": null,
   "id": "g6h2i9j0",
   "metadata": {},
   "outputs": [],
   "source": [
    "# Guardar el dataframe con las nuevas características en un nuevo archivo\n",
    "output_path = 'datos/df_featured.csv'\n",
    "df_featured.to_csv(output_path, index=False)\n",
    "\n",
    "print(f\"El DataFrame con las nuevas características se ha guardado en: {output_path}\")"
   ]
  }
 ],
 "metadata": {
  "kernelspec": {
   "display_name": ".venv",
   "language": "python",
   "name": "python3"
  },
  "language_info": {
   "codemirror_mode": {
    "name": "ipython",
    "version": 3
   },
   "file_extension": ".py",
   "mimetype": "text/x-python",
   "name": "python",
   "nbconvert_exporter": "python",
   "pygments_lexer": "ipython3",
   "version": "3.9.6"
  }
 },
 "nbformat": 4,
 "nbformat_minor": 5
}
